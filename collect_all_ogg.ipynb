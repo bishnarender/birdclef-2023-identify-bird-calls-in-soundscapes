{
 "cells": [
  {
   "cell_type": "code",
   "execution_count": 8,
   "id": "1353e7cc",
   "metadata": {},
   "outputs": [],
   "source": [
    "import glob\n",
    "import shutil"
   ]
  },
  {
   "cell_type": "code",
   "execution_count": 15,
   "id": "5cfb45a4",
   "metadata": {},
   "outputs": [],
   "source": [
    "#birdclef2023 = glob.glob(\"birdclef-2023/train_audio/*/*\")\n",
    "#birdclef2022 = glob.glob(\"birdclef-2022/train_audio/*/*\")\n",
    "birdclef2021 = glob.glob(\"birdclef-2021/train_short_audio/*/*\")"
   ]
  },
  {
   "cell_type": "code",
   "execution_count": 16,
   "id": "4d626094",
   "metadata": {},
   "outputs": [
    {
     "data": {
      "text/plain": [
       "62874"
      ]
     },
     "execution_count": 16,
     "metadata": {},
     "output_type": "execute_result"
    }
   ],
   "source": [
    "len(birdclef2021)"
   ]
  },
  {
   "cell_type": "code",
   "execution_count": 17,
   "id": "a2f27a26",
   "metadata": {},
   "outputs": [],
   "source": [
    "dst_dir = 'inputs/train_audios/'\n",
    "for srcpath in birdclef2021:\n",
    "    shutil.copy(srcpath, dst_dir)"
   ]
  },
  {
   "cell_type": "code",
   "execution_count": null,
   "id": "b1ec4f31",
   "metadata": {},
   "outputs": [],
   "source": []
  },
  {
   "cell_type": "code",
   "execution_count": null,
   "id": "6c8ce842",
   "metadata": {},
   "outputs": [],
   "source": []
  }
 ],
 "metadata": {
  "kernelspec": {
   "display_name": "Python 3 (ipykernel)",
   "language": "python",
   "name": "python3"
  },
  "language_info": {
   "codemirror_mode": {
    "name": "ipython",
    "version": 3
   },
   "file_extension": ".py",
   "mimetype": "text/x-python",
   "name": "python",
   "nbconvert_exporter": "python",
   "pygments_lexer": "ipython3",
   "version": "3.7.12"
  }
 },
 "nbformat": 4,
 "nbformat_minor": 5
}
